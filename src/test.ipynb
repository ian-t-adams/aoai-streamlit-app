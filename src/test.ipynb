{
 "cells": [
  {
   "cell_type": "code",
   "execution_count": 1,
   "metadata": {},
   "outputs": [],
   "source": [
    "import os\n",
    "import openai\n",
    "from dotenv import load_dotenv  \n",
    "\n",
    "load_dotenv()  \n",
    "\n",
    "openai.api_type = \"azure\"  \n",
    "openai.api_key = os.environ['APIM_KEY']  \n",
    "openai.api_base = os.environ['APIM_ENDPOINT']  \n",
    "openai.api_version = os.environ['AOAI_API_VERSION']"
   ]
  },
  {
   "cell_type": "code",
   "execution_count": 2,
   "metadata": {},
   "outputs": [
    {
     "name": "stdout",
     "output_type": "stream",
     "text": [
      "https://apimanagementaoai.azure-api.net/\n"
     ]
    }
   ],
   "source": [
    "print(openai.api_base)"
   ]
  },
  {
   "cell_type": "code",
   "execution_count": 4,
   "metadata": {},
   "outputs": [
    {
     "data": {
      "text/plain": [
       "<OpenAIObject chat.completion id=chatcmpl-8E2dIHvhk37B2GHStuCFicjIXqOJN at 0x1b0df0bb050> JSON: {\n",
       "  \"id\": \"chatcmpl-8E2dIHvhk37B2GHStuCFicjIXqOJN\",\n",
       "  \"object\": \"chat.completion\",\n",
       "  \"created\": 1698357404,\n",
       "  \"model\": \"gpt-4\",\n",
       "  \"choices\": [\n",
       "    {\n",
       "      \"index\": 0,\n",
       "      \"finish_reason\": \"stop\",\n",
       "      \"message\": {\n",
       "        \"role\": \"assistant\",\n",
       "        \"content\": \"Why don't APIM developers play hide and seek?\\n\\nBecause good luck hiding when they always expose your endpoints!\"\n",
       "      }\n",
       "    }\n",
       "  ],\n",
       "  \"usage\": {\n",
       "    \"prompt_tokens\": 29,\n",
       "    \"completion_tokens\": 22,\n",
       "    \"total_tokens\": 51\n",
       "  }\n",
       "}"
      ]
     },
     "execution_count": 4,
     "metadata": {},
     "output_type": "execute_result"
    }
   ],
   "source": [
    "engine = \"gpt-4\"\n",
    "messages = [{\"role\":\"system\",\"content\":\"You are an AI assistant that helps people find information.\"},\n",
    "            {\"role\":\"user\",\"content\":\"Tell me a joke about APIM\"}]\n",
    "temperature = 0.9\n",
    "max_tokens = 800\n",
    "top_p = 0.9\n",
    "stream = False\n",
    "\n",
    "openai.ChatCompletion.create(\n",
    "            engine=engine,\n",
    "            messages=messages,\n",
    "            temperature=temperature,\n",
    "            max_tokens=max_tokens,\n",
    "            top_p=top_p,\n",
    "            stream=stream\n",
    "        )"
   ]
  }
 ],
 "metadata": {
  "kernelspec": {
   "display_name": "aoai-streamlit",
   "language": "python",
   "name": "python3"
  },
  "language_info": {
   "codemirror_mode": {
    "name": "ipython",
    "version": 3
   },
   "file_extension": ".py",
   "mimetype": "text/x-python",
   "name": "python",
   "nbconvert_exporter": "python",
   "pygments_lexer": "ipython3",
   "version": "3.11.4"
  }
 },
 "nbformat": 4,
 "nbformat_minor": 2
}
