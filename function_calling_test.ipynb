{
 "cells": [
  {
   "cell_type": "code",
   "execution_count": 1,
   "metadata": {},
   "outputs": [],
   "source": [
    "import os, requests, html\n",
    "from dotenv import load_dotenv\n",
    "from openai import AzureOpenAI\n",
    "from IPython.display import HTML, Markdown, display\n",
    "from src import aoai_helpers as helpers\n",
    "from src import aoai_model_configs as model_configs\n",
    "from src import aoai_tools_definitions as tool_definitions\n",
    "\n",
    "load_dotenv()  \n",
    "\n",
    "apim_key = os.environ['APIM_KEY']  \n",
    "apim_endpoint = os.environ['APIM_ENDPOINT']  \n",
    "version_of_api = os.environ['AOAI_API_VERSION']\n",
    "bing_subscription_key = os.environ['BING_SEARCH_SUBSCRIPTION_KEY']\n",
    "bing_search_url = os.environ['BING_SEARCH_ENDPOINT']\n",
    "\n",
    "aoai_client = AzureOpenAI(azure_endpoint=apim_endpoint, \n",
    "                          api_key=apim_key,  \n",
    "                          api_version=version_of_api\n",
    "                        )\n"
   ]
  },
  {
   "cell_type": "code",
   "execution_count": 2,
   "metadata": {},
   "outputs": [],
   "source": [
    "messages = [{\"role\": \"user\", \"content\": \"When will the band Dr. Dog next play in Chicago?\"}]\n",
    "\n",
    "response = aoai_client.chat.completions.create(\n",
    "        model=\"gpt-4-turbo\",\n",
    "        messages=messages,\n",
    "        tools=tool_definitions.tools,\n",
    "        tool_choice=\"auto\",  # auto is default, but we'll be explicit\n",
    "    )\n",
    "response_message = response.choices[0].message\n",
    "tool_calls = response_message.tool_calls"
   ]
  },
  {
   "cell_type": "code",
   "execution_count": 3,
   "metadata": {},
   "outputs": [
    {
     "data": {
      "text/plain": [
       "ChatCompletionMessage(content=None, role='assistant', function_call=None, tool_calls=[ChatCompletionMessageToolCall(id='call_36rvTgXXu0ifbAtjaGsdPyti', function=Function(arguments='{\"query\":\"Dr. Dog band next concert date in Chicago\"}', name='bing_web_search'), type='function')])"
      ]
     },
     "execution_count": 3,
     "metadata": {},
     "output_type": "execute_result"
    }
   ],
   "source": [
    "response_message"
   ]
  },
  {
   "cell_type": "code",
   "execution_count": 4,
   "metadata": {},
   "outputs": [
    {
     "data": {
      "text/plain": [
       "[ChatCompletionMessageToolCall(id='call_36rvTgXXu0ifbAtjaGsdPyti', function=Function(arguments='{\"query\":\"Dr. Dog band next concert date in Chicago\"}', name='bing_web_search'), type='function')]"
      ]
     },
     "metadata": {},
     "output_type": "display_data"
    }
   ],
   "source": [
    "display(tool_calls)"
   ]
  }
 ],
 "metadata": {
  "kernelspec": {
   "display_name": "aoai-streamlit",
   "language": "python",
   "name": "python3"
  },
  "language_info": {
   "codemirror_mode": {
    "name": "ipython",
    "version": 3
   },
   "file_extension": ".py",
   "mimetype": "text/x-python",
   "name": "python",
   "nbconvert_exporter": "python",
   "pygments_lexer": "ipython3",
   "version": "3.11.4"
  }
 },
 "nbformat": 4,
 "nbformat_minor": 2
}
