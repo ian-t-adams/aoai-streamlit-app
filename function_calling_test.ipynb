{
 "cells": [
  {
   "cell_type": "code",
   "execution_count": 1,
   "metadata": {},
   "outputs": [],
   "source": [
    "import os, requests, html\n",
    "from dotenv import load_dotenv\n",
    "from openai import AzureOpenAI\n",
    "from IPython.display import HTML, Markdown, display\n",
    "from src import aoai_helpers as helpers\n",
    "from src import aoai_model_configs as model_configs\n",
    "from src import aoai_tools_definitions as tool_definitions\n",
    "\n",
    "load_dotenv()  \n",
    "\n",
    "apim_key = os.environ['APIM_KEY']  \n",
    "apim_endpoint = os.environ['APIM_ENDPOINT']  \n",
    "version_of_api = os.environ['AOAI_API_VERSION']\n",
    "bing_subscription_key = os.environ['BING_SEARCH_SUBSCRIPTION_KEY']\n",
    "bing_search_url = os.environ['BING_SEARCH_ENDPOINT']\n",
    "\n",
    "aoai_client = AzureOpenAI(azure_endpoint=apim_endpoint, \n",
    "                          api_key=apim_key,  \n",
    "                          api_version=version_of_api\n",
    "                        )\n"
   ]
  },
  {
   "cell_type": "code",
   "execution_count": 2,
   "metadata": {},
   "outputs": [],
   "source": [
    "# output = helpers.bing_web_search(bing_subscription_key, \"How do I use tools and function calling? site:https://learn.microsoft.com/\", output_format='html', count=50, mkt='en-US')\n",
    "# display(HTML(output))"
   ]
  },
  {
   "cell_type": "code",
   "execution_count": 3,
   "metadata": {},
   "outputs": [],
   "source": [
    "messages = [{\"role\": \"user\", \"content\": \"How do I reset my password on RealPages OneClick software?\"}]\n",
    "# tools = [\n",
    "#     {\n",
    "#         \"type\": \"function\",\n",
    "#         \"function\": {\n",
    "#             \"name\": \"bing_web_search\",\n",
    "#             \"description\": '''Use this function to perform a search with the Bing Web Search API and its advanced search capabilities.\n",
    "#                     Input should be a well written search query adhering to advanced search keywords and their notation or additional API Query parameters as noted.\n",
    "#                     Use of advanced keyword formatting and additional keywords is encouraged to get the best results.''',\n",
    "#             \"parameters\": {  \n",
    "#                 \"type\": \"object\",  \n",
    "#                 \"properties\": {  \n",
    "#                     \"query\": {  \n",
    "#                         \"type\": \"string\",  \n",
    "#                         \"description\": '''The user's search query term. Supports advanced search keywords.\n",
    "#                             Search Operators and Their Uses:\n",
    "#                             - contains: Focuses on websites with links to specified file types.\n",
    "#                             Example: music contains:wma\n",
    "#                             - ext: Filters webpages with a specific filename extension.\n",
    "#                             Example: subject ext:docx\n",
    "#                             - filetype: Narrows search to webpages in a specified file format.\n",
    "#                             Example: subject filetype:pdf\n",
    "#                             - inanchor:, inbody:, intitle: Search for webpages with terms in the anchor, body, or title.\n",
    "#                             Example: inanchor:msn inbody:spaces inbody:magog\n",
    "#                             - ip: Finds sites hosted by a specific IP address.\n",
    "#                             Example: IP:207.46.249.252\n",
    "#                             - language: Filters webpages to a specific language.\n",
    "#                             Example: \"antiques\" language:en\n",
    "#                             - loc: or location: Returns webpages from a specified country or region.\n",
    "#                             Example: sculpture (loc:US OR loc:GB)\n",
    "#                             - prefer: Adds emphasis to a search term or operator.\n",
    "#                             Example: football prefer:organization\n",
    "#                             - site: Searches within a specified site or domain.\n",
    "#                             Example: \"heart disease\" (site:bbc.co.uk OR site:cnn.com)\n",
    "#                             - feed: Finds RSS or Atom feeds on a website.\n",
    "#                             Example: feed:football\n",
    "#                             - hasfeed: Locates webpages with RSS or Atom feeds on a site.\n",
    "#                             Example: site:www.nytimes.com hasfeed:football\n",
    "#                             - url: Verifies if a domain or web address is indexed by Bing.\n",
    "#                             Example: url:microsoft.com''',\n",
    "#                         \"minLength\": 1\n",
    "#                     },\n",
    "#                     \"**kwargs\": {\n",
    "#                         \"type\": \"object\",\n",
    "#                         \"description\": '''This reference outlines the query parameters available for Bing Web Search API requests, detailing their purpose, value types, and whether they are mandatory.\n",
    "#                                 answerCount: Specifies the number of answers (e.g., webpages, images) to include in the response based on ranking. Type: Unsigned Integer, Required: No\n",
    "#                                 cc: Sets a 2-character country code to determine the country for the search results. Type: String, Required: No\n",
    "#                                 count: Determines the number of search results to return. Default is 10, maximum is 50. Type: UnsignedShort, Required: No\n",
    "#                                 freshness: Filters search results by age (Day, Week, Month) or a specific date range. Type: String, Required: No\n",
    "#                                 mkt: Specifies the market (country/region) for the search results. Type: String, Required: No\n",
    "#                                 offset: Sets the number of search results to skip before returning results. Type: Unsigned Short, Required: No\n",
    "#                                 promote: A list of answers to include in the response regardless of their ranking. Type: String, Required: No\n",
    "#                                 q: The user's search query term. Type: String, Required: Yes\n",
    "#                                 responseFilter: A list of answer types to include in the response. Type: String, Required: No\n",
    "#                                 safeSearch: Filters content for adult material. Options are Off, Moderate, Strict. Type: String, Required: No\n",
    "#                                 setLang: Sets the language for user interface strings. Type: String, Required: No\n",
    "#                                 textDecorations: Determines if display strings include decoration markers. Type: Boolean, Required: No\n",
    "#                                 textFormat: The type of markers to use for text decorations (Raw or HTML). Type: String, Required: No\n",
    "#                                 '''\n",
    "#                     }\n",
    "#                 },\n",
    "#                 \"required\": [\"query\"]\n",
    "#             },\n",
    "#             \"returns\": {\n",
    "#                 \"type\": \"string\",\n",
    "#                 \"description\": \"A table with the search results in the specified format or an error message, including additional details.\"\n",
    "#             },\n",
    "#         }\n",
    "#     }\n",
    "# ]\n",
    "\n",
    "response = aoai_client.chat.completions.create(\n",
    "        model=\"gpt-4-turbo\",\n",
    "        messages=messages,\n",
    "        tools=tool_definitions.tools,\n",
    "        tool_choice=\"auto\",  # auto is default, but we'll be explicit\n",
    "    )\n",
    "response_message = response.choices[0].message\n",
    "tool_calls = response_message.tool_calls"
   ]
  },
  {
   "cell_type": "code",
   "execution_count": 4,
   "metadata": {},
   "outputs": [
    {
     "data": {
      "text/plain": [
       "ChatCompletionMessage(content=None, role='assistant', function_call=None, tool_calls=[ChatCompletionMessageToolCall(id='call_YuTzPYIls50bALlPjPSMi6ps', function=Function(arguments='{\"query\":\"RealPages OneClick software password reset instructions\"}', name='bing_web_search'), type='function')])"
      ]
     },
     "execution_count": 4,
     "metadata": {},
     "output_type": "execute_result"
    }
   ],
   "source": [
    "response_message"
   ]
  },
  {
   "cell_type": "code",
   "execution_count": 5,
   "metadata": {},
   "outputs": [
    {
     "data": {
      "text/plain": [
       "[ChatCompletionMessageToolCall(id='call_YuTzPYIls50bALlPjPSMi6ps', function=Function(arguments='{\"query\":\"RealPages OneClick software password reset instructions\"}', name='bing_web_search'), type='function')]"
      ]
     },
     "metadata": {},
     "output_type": "display_data"
    }
   ],
   "source": [
    "display(tool_calls)"
   ]
  }
 ],
 "metadata": {
  "kernelspec": {
   "display_name": "aoai-streamlit",
   "language": "python",
   "name": "python3"
  },
  "language_info": {
   "codemirror_mode": {
    "name": "ipython",
    "version": 3
   },
   "file_extension": ".py",
   "mimetype": "text/x-python",
   "name": "python",
   "nbconvert_exporter": "python",
   "pygments_lexer": "ipython3",
   "version": "3.11.4"
  }
 },
 "nbformat": 4,
 "nbformat_minor": 2
}
